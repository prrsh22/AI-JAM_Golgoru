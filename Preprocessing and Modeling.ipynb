{
 "cells": [
  {
   "cell_type": "markdown",
   "metadata": {},
   "source": [
    "# 사설 원문 전처리"
   ]
  },
  {
   "cell_type": "markdown",
   "metadata": {},
   "source": [
    "데이터 불러오기"
   ]
  },
  {
   "cell_type": "code",
   "execution_count": 1,
   "metadata": {},
   "outputs": [
    {
     "name": "stdout",
     "output_type": "stream",
     "text": [
      "0    330\n",
      "1    330\n",
      "dtype: int64\n"
     ]
    }
   ],
   "source": [
    "import pandas as pd\n",
    "import warnings\n",
    "warnings.filterwarnings('ignore')\n",
    "\n",
    "df = pd.read_excel('data/raw_data.xlsx')\n",
    "\n",
    "#타깃 데이터(찬성, 반대) 비율 체크\n",
    "print(pd.value_counts(df['Pos'].values, sort=False))"
   ]
  },
  {
   "cell_type": "markdown",
   "metadata": {},
   "source": [
    "형태소 단위로 토큰화"
   ]
  },
  {
   "cell_type": "code",
   "execution_count": 2,
   "metadata": {},
   "outputs": [],
   "source": [
    "from konlpy.tag import Okt\n",
    "\n",
    "df = df[['Content', 'Pos']]\n",
    "\n",
    "okt = Okt()\n",
    "\n",
    "for i in range(len(df)):       \n",
    "    df.loc[i,'Content'] = str(okt.pos(df.loc[i,'Content'], norm=True, stem=True))"
   ]
  },
  {
   "cell_type": "markdown",
   "metadata": {},
   "source": [
    "명사, 동사, 부사, 형용사만 추출"
   ]
  },
  {
   "cell_type": "code",
   "execution_count": 3,
   "metadata": {},
   "outputs": [],
   "source": [
    "import ast\n",
    "\n",
    "tags = ['Noun', 'Verb', 'Adverb', 'Adjective']\n",
    "\n",
    "for i in range(len(df)):\n",
    "    pos_list = ast.literal_eval(df.loc[i, 'Content'])\n",
    "    \n",
    "    # tags내의 품사(명사, 동사, 부사, 형용사)를 갖는 토큰만 뽑아내기\n",
    "    final = []\n",
    "    \n",
    "    for j in range(len(pos_list)):\n",
    "        if pos_list[j][1] in tags:\n",
    "            final.append(pos_list[j][0])\n",
    "    \n",
    "    df.loc[i, 'Content'] = str(final)[1:-1]"
   ]
  },
  {
   "cell_type": "markdown",
   "metadata": {},
   "source": [
    "Train/Test set 분리"
   ]
  },
  {
   "cell_type": "code",
   "execution_count": 4,
   "metadata": {},
   "outputs": [],
   "source": [
    "from sklearn.model_selection import train_test_split\n",
    "\n",
    "data = df['Content']\n",
    "target = df['Pos']\n",
    "\n",
    "x_train_initial, x_test_initial, y_train_initial, y_test_initial = train_test_split(data, target, test_size=0.2, shuffle=True, stratify=target)"
   ]
  },
  {
   "cell_type": "code",
   "execution_count": 5,
   "metadata": {},
   "outputs": [],
   "source": [
    "x_train_mid = []\n",
    "\n",
    "for content in x_train_initial:\n",
    "    temp = list(map(str.strip, content.replace('\\'', '').split(',')))\n",
    "    x_train_mid.append(temp)\n",
    "\n",
    "x_test_mid = []\n",
    "\n",
    "for content in x_test_initial:\n",
    "    temp = list(map(str.strip, content.replace('\\'', '').split(',')))\n",
    "    x_test_mid.append(temp)"
   ]
  },
  {
   "cell_type": "markdown",
   "metadata": {},
   "source": [
    "정수 인코딩"
   ]
  },
  {
   "cell_type": "code",
   "execution_count": 6,
   "metadata": {},
   "outputs": [],
   "source": [
    "import urllib.request\n",
    "%matplotlib inline\n",
    "import matplotlib.pyplot as plt\n",
    "from tensorflow.keras.preprocessing.text import Tokenizer\n",
    "from tensorflow.keras.preprocessing.sequence import pad_sequences"
   ]
  },
  {
   "cell_type": "code",
   "execution_count": 7,
   "metadata": {
    "scrolled": true
   },
   "outputs": [],
   "source": [
    "tokenizer = Tokenizer()\n",
    "tokenizer.fit_on_texts(x_train_mid)\n",
    "\n",
    "#print(tokenizer.word_index)"
   ]
  },
  {
   "cell_type": "markdown",
   "metadata": {},
   "source": [
    "3회 미만으로 등장하는 토큰 제거"
   ]
  },
  {
   "cell_type": "code",
   "execution_count": 8,
   "metadata": {},
   "outputs": [
    {
     "name": "stdout",
     "output_type": "stream",
     "text": [
      "단어 수  9784\n",
      "2회 이하로 등장하는 단어 수: 4567\n",
      "전체 토큰 중 희귀 토큰의 비중: 46.67825020441537\n",
      "전체 빈도수 중 희귀 토큰의 빈도수 비중:  3.7339857483380396\n"
     ]
    }
   ],
   "source": [
    "threshold = 3\n",
    "total_cnt = len(tokenizer.word_index)\n",
    "rare_cnt = 0 \n",
    "total_freq = 0 \n",
    "rare_freq = 0\n",
    "\n",
    "for key, value in tokenizer.word_counts.items():\n",
    "    total_freq = total_freq + value\n",
    "\n",
    "    if(value < threshold):\n",
    "        rare_cnt += 1\n",
    "        rare_freq += value\n",
    "\n",
    "print('단어 수 ',total_cnt)\n",
    "print('%s회 이하로 등장하는 단어 수: %s'%(threshold - 1, rare_cnt))\n",
    "print(\"전체 토큰 중 희귀 토큰의 비중:\", (rare_cnt / total_cnt)*100)\n",
    "print(\"전체 빈도수 중 희귀 토큰의 빈도수 비중: \", (rare_freq / total_freq)*100)"
   ]
  },
  {
   "cell_type": "code",
   "execution_count": 9,
   "metadata": {},
   "outputs": [
    {
     "name": "stdout",
     "output_type": "stream",
     "text": [
      "희귀 단어 제거 후 단어 수:  5219\n"
     ]
    }
   ],
   "source": [
    "vocab_size = total_cnt - rare_cnt + 2\n",
    "print('희귀 단어 제거 후 단어 수: ',vocab_size)"
   ]
  },
  {
   "cell_type": "code",
   "execution_count": 10,
   "metadata": {},
   "outputs": [],
   "source": [
    "tokenizer = Tokenizer(vocab_size, oov_token = 'OOV') \n",
    "tokenizer.fit_on_texts(x_train_mid)\n",
    "\n",
    "x_train = tokenizer.texts_to_sequences(x_train_mid)\n",
    "x_test = tokenizer.texts_to_sequences(x_test_mid)\n",
    "\n",
    "y_train = y_train_initial\n",
    "y_test = y_test_initial"
   ]
  },
  {
   "cell_type": "markdown",
   "metadata": {},
   "source": [
    "패딩"
   ]
  },
  {
   "cell_type": "code",
   "execution_count": 11,
   "metadata": {},
   "outputs": [
    {
     "name": "stdout",
     "output_type": "stream",
     "text": [
      "샘플의 최대 길이:  1200\n",
      "샘플 평균 길이:  301.1344696969697\n"
     ]
    },
    {
     "data": {
      "image/png": "[encoded data removed]",
      "text/plain": [
       "<Figure size 432x288 with 1 Axes>"
      ]
     },
     "metadata": {
      "needs_background": "light"
     },
     "output_type": "display_data"
    }
   ],
   "source": [
    "print('샘플의 최대 길이: ',max(len(l) for l in x_train))\n",
    "print('샘플 평균 길이: ',sum(map(len, x_train))/len(x_train))\n",
    "plt.hist([len(s) for s in x_train], bins=50)\n",
    "plt.xlabel('Length of Samples')\n",
    "plt.ylabel('Number of Samples')\n",
    "plt.show()"
   ]
  },
  {
   "cell_type": "code",
   "execution_count": 12,
   "metadata": {},
   "outputs": [],
   "source": [
    "def below_threshold_len(max_len, nested_list):\n",
    "    cnt = 0\n",
    "    \n",
    "    for s in nested_list:\n",
    "        if(len(s) <= max_len):\n",
    "            cnt = cnt + 1\n",
    "    \n",
    "    print('%s보다 짧은 샘플의 비율: %s'%(max_len, (cnt / len(nested_list))*100))"
   ]
  },
  {
   "cell_type": "code",
   "execution_count": 13,
   "metadata": {},
   "outputs": [
    {
     "name": "stdout",
     "output_type": "stream",
     "text": [
      "500보다 짧은 샘플의 비율: 99.24242424242425\n"
     ]
    }
   ],
   "source": [
    "max_len = 500\n",
    "below_threshold_len(max_len, x_train)\n",
    "\n",
    "x_train = pad_sequences(x_train, maxlen = max_len)\n",
    "x_test = pad_sequences(x_test, maxlen = max_len)"
   ]
  },
  {
   "cell_type": "markdown",
   "metadata": {},
   "source": [
    "# 모델링 (LSTM 적용)"
   ]
  },
  {
   "cell_type": "code",
   "execution_count": 14,
   "metadata": {},
   "outputs": [],
   "source": [
    "from tensorflow.keras.layers import Embedding, Dense, LSTM\n",
    "from tensorflow.keras.models import Sequential\n",
    "from tensorflow.keras.models import load_model\n",
    "from tensorflow.keras.callbacks import EarlyStopping, ModelCheckpoint"
   ]
  },
  {
   "cell_type": "code",
   "execution_count": 15,
   "metadata": {},
   "outputs": [
    {
     "name": "stdout",
     "output_type": "stream",
     "text": [
      "WARNING:tensorflow:From C:\\Users\\SEC\\anaconda3\\lib\\site-packages\\tensorflow\\python\\keras\\initializers.py:119: calling RandomUniform.__init__ (from tensorflow.python.ops.init_ops) with dtype is deprecated and will be removed in a future version.\n",
      "Instructions for updating:\n",
      "Call initializer instance with the dtype argument instead of passing it to the constructor\n",
      "WARNING:tensorflow:From C:\\Users\\SEC\\anaconda3\\lib\\site-packages\\tensorflow\\python\\ops\\init_ops.py:1251: calling VarianceScaling.__init__ (from tensorflow.python.ops.init_ops) with dtype is deprecated and will be removed in a future version.\n",
      "Instructions for updating:\n",
      "Call initializer instance with the dtype argument instead of passing it to the constructor\n"
     ]
    }
   ],
   "source": [
    "model = Sequential()\n",
    "model.add(Embedding(vocab_size, 500))\n",
    "model.add(LSTM(128))\n",
    "model.add(Dense(1, activation='sigmoid'))"
   ]
  },
  {
   "cell_type": "code",
   "execution_count": 16,
   "metadata": {},
   "outputs": [],
   "source": [
    "es = EarlyStopping(monitor='val_loss', mode='min', verbose=1, patience=5)\n",
    "mc = ModelCheckpoint('best_model.h5', monitor='val_acc', \n",
    "                     mode='max', verbose=1, save_best_only=True)"
   ]
  },
  {
   "cell_type": "code",
   "execution_count": 17,
   "metadata": {
    "scrolled": true
   },
   "outputs": [
    {
     "name": "stdout",
     "output_type": "stream",
     "text": [
      "WARNING:tensorflow:From C:\\Users\\SEC\\anaconda3\\lib\\site-packages\\tensorflow\\python\\ops\\nn_impl.py:180: add_dispatch_support.<locals>.wrapper (from tensorflow.python.ops.array_ops) is deprecated and will be removed in a future version.\n",
      "Instructions for updating:\n",
      "Use tf.where in 2.0, which has the same broadcast rule as np.where\n",
      "Train on 422 samples, validate on 106 samples\n",
      "Epoch 1/15\n",
      "420/422 [============================>.] - ETA: 0s - loss: 0.6902 - acc: 0.5214\n",
      "Epoch 00001: val_acc improved from -inf to 0.45283, saving model to best_model.h5\n",
      "422/422 [==============================] - 48s 114ms/sample - loss: 0.6900 - acc: 0.5237 - val_loss: 2.0933 - val_acc: 0.4528\n",
      "Epoch 2/15\n",
      "420/422 [============================>.] - ETA: 0s - loss: 0.7323 - acc: 0.7738\n",
      "Epoch 00002: val_acc improved from 0.45283 to 0.71698, saving model to best_model.h5\n",
      "422/422 [==============================] - 45s 107ms/sample - loss: 0.7312 - acc: 0.7749 - val_loss: 0.5482 - val_acc: 0.7170\n",
      "Epoch 3/15\n",
      "420/422 [============================>.] - ETA: 0s - loss: 0.3106 - acc: 0.9095\n",
      "Epoch 00003: val_acc did not improve from 0.71698\n",
      "422/422 [==============================] - 46s 108ms/sample - loss: 0.3098 - acc: 0.9100 - val_loss: 1.8056 - val_acc: 0.5566\n",
      "Epoch 4/15\n",
      "420/422 [============================>.] - ETA: 0s - loss: 0.4853 - acc: 0.8619\n",
      "Epoch 00004: val_acc improved from 0.71698 to 0.77358, saving model to best_model.h5\n",
      "422/422 [==============================] - 46s 109ms/sample - loss: 0.4869 - acc: 0.8602 - val_loss: 0.5199 - val_acc: 0.7736\n",
      "Epoch 5/15\n",
      "420/422 [============================>.] - ETA: 0s - loss: 0.2174 - acc: 0.9762\n",
      "Epoch 00005: val_acc improved from 0.77358 to 0.80189, saving model to best_model.h5\n",
      "422/422 [==============================] - 48s 114ms/sample - loss: 0.2169 - acc: 0.9763 - val_loss: 0.4243 - val_acc: 0.8019\n",
      "Epoch 6/15\n",
      "420/422 [============================>.] - ETA: 0s - loss: 0.0693 - acc: 0.9929\n",
      "Epoch 00006: val_acc did not improve from 0.80189\n",
      "422/422 [==============================] - 48s 113ms/sample - loss: 0.0738 - acc: 0.9905 - val_loss: 0.6111 - val_acc: 0.6698\n",
      "Epoch 7/15\n",
      "420/422 [============================>.] - ETA: 0s - loss: 0.1020 - acc: 1.0000\n",
      "Epoch 00007: val_acc did not improve from 0.80189\n",
      "422/422 [==============================] - 48s 114ms/sample - loss: 0.1019 - acc: 1.0000 - val_loss: 0.4604 - val_acc: 0.8019\n",
      "Epoch 8/15\n",
      "420/422 [============================>.] - ETA: 0s - loss: 0.0258 - acc: 1.0000\n",
      "Epoch 00008: val_acc improved from 0.80189 to 0.81132, saving model to best_model.h5\n",
      "422/422 [==============================] - 49s 116ms/sample - loss: 0.0258 - acc: 1.0000 - val_loss: 0.5650 - val_acc: 0.8113\n",
      "Epoch 9/15\n",
      "420/422 [============================>.] - ETA: 0s - loss: 0.0134 - acc: 1.0000\n",
      "Epoch 00009: val_acc did not improve from 0.81132\n",
      "422/422 [==============================] - 48s 115ms/sample - loss: 0.0134 - acc: 1.0000 - val_loss: 0.7887 - val_acc: 0.7736\n",
      "Epoch 10/15\n",
      "420/422 [============================>.] - ETA: 0s - loss: 0.0180 - acc: 0.9976\n",
      "Epoch 00010: val_acc did not improve from 0.81132\n",
      "422/422 [==============================] - 48s 113ms/sample - loss: 0.0180 - acc: 0.9976 - val_loss: 0.5921 - val_acc: 0.7830\n",
      "Epoch 00010: early stopping\n"
     ]
    }
   ],
   "source": [
    "model.compile(optimizer='rmsprop', loss='binary_crossentropy', metrics=['acc'])\n",
    "history = model.fit(x_train, y_train, epochs=15, callbacks=[es, mc],\n",
    "                    batch_size=60, validation_split=0.2)"
   ]
  },
  {
   "cell_type": "code",
   "execution_count": 18,
   "metadata": {
    "scrolled": false
   },
   "outputs": [
    {
     "name": "stdout",
     "output_type": "stream",
     "text": [
      "WARNING:tensorflow:From C:\\Users\\SEC\\anaconda3\\lib\\site-packages\\tensorflow\\python\\ops\\init_ops.py:97: calling GlorotUniform.__init__ (from tensorflow.python.ops.init_ops) with dtype is deprecated and will be removed in a future version.\n",
      "Instructions for updating:\n",
      "Call initializer instance with the dtype argument instead of passing it to the constructor\n",
      "WARNING:tensorflow:From C:\\Users\\SEC\\anaconda3\\lib\\site-packages\\tensorflow\\python\\ops\\init_ops.py:97: calling Orthogonal.__init__ (from tensorflow.python.ops.init_ops) with dtype is deprecated and will be removed in a future version.\n",
      "Instructions for updating:\n",
      "Call initializer instance with the dtype argument instead of passing it to the constructor\n",
      "WARNING:tensorflow:From C:\\Users\\SEC\\anaconda3\\lib\\site-packages\\tensorflow\\python\\ops\\init_ops.py:97: calling Zeros.__init__ (from tensorflow.python.ops.init_ops) with dtype is deprecated and will be removed in a future version.\n",
      "Instructions for updating:\n",
      "Call initializer instance with the dtype argument instead of passing it to the constructor\n",
      "528/528 [==============================] - 11s 21ms/sample - loss: 0.1259 - acc: 0.9621\n",
      "\n",
      "Train Accuracy: 0.9621\n",
      "132/132 [==============================] - 3s 25ms/sample - loss: 0.5357 - acc: 0.8182\n",
      "\n",
      "Test Accuracy: 0.8182\n"
     ]
    }
   ],
   "source": [
    "loaded_model = load_model('best_model.h5')\n",
    "print(\"\\nTrain Accuracy: %.4f\" % (loaded_model.evaluate(x_train, y_train)[1]))\n",
    "print(\"\\nTest Accuracy: %.4f\" % (loaded_model.evaluate(x_test, y_test)[1]))"
   ]
  }
 ],
 "metadata": {
  "kernelspec": {
   "display_name": "Python 3",
   "language": "python",
   "name": "python3"
  },
  "language_info": {
   "codemirror_mode": {
    "name": "ipython",
    "version": 3
   },
   "file_extension": ".py",
   "mimetype": "text/x-python",
   "name": "python",
   "nbconvert_exporter": "python",
   "pygments_lexer": "ipython3",
   "version": "3.7.6"
  }
 },
 "nbformat": 4,
 "nbformat_minor": 4
}
